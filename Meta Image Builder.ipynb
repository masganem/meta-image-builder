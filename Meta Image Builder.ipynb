{
 "cells": [
  {
   "cell_type": "code",
   "execution_count": 7,
   "id": "f25a03f7-1100-480d-90d6-602b457c97fa",
   "metadata": {
    "tags": []
   },
   "outputs": [],
   "source": [
    "import numpy as np\n",
    "from PIL import Image\n",
    "import os\n",
    "import random\n",
    "from layeris.layer_image import LayerImage"
   ]
  },
  {
   "cell_type": "code",
   "execution_count": 8,
   "id": "1b58a183-1caa-443a-b09c-04ba53392c44",
   "metadata": {
    "tags": []
   },
   "outputs": [],
   "source": [
    "class Mosaic:\n",
    "    def __init__(self, path, slice_size):\n",
    "        self.path = path\n",
    "        # Every x (slice_size) pixels of the image should be another image\n",
    "        self.slice_size = slice_size\n",
    "        self.ref = Image.open(path).convert('RGB')\n",
    "        # Resize the image such that every sub-image is of size 64x64px\n",
    "        self.ref = self.ref.resize((int(self.ref.size[0] * 64 / self.slice_size), int(self.ref.size[1] * 64 / self.slice_size)))\n",
    "        self.array = np.array(self.ref)\n",
    "        self.x = self.ref.size[0]\n",
    "        self.y = self.ref.size[1]\n",
    "        self.content = []\n",
    "            \n",
    "    def load_content(self, path):\n",
    "        for fn in os.listdir(path):\n",
    "            image = Image.open(path + '/' + fn).resize((64, 64)).convert('RGB')\n",
    "            self.content.append(image)\n",
    "    \n",
    "    def build(self):\n",
    "        if not self.content:\n",
    "            raise ValueError('No content loaded')\n",
    "        # Iterate over blocks of the image\n",
    "        for i in range (int(np.ceil(self.y/64))):\n",
    "            for j in range(int(np.ceil(self.x/64))):\n",
    "                [start_x, end_x] = [i*64, (i+1)*64]\n",
    "                [start_y, end_y] = [j*64, (j+1)*64]\n",
    "                arr_slice = self.array[start_x:end_x, start_y:end_y]\n",
    "                # Obtain the average color of the block\n",
    "                average = np.average(arr_slice.reshape((arr_slice.shape[0]*arr_slice.shape[1], 3)), axis=0).astype(np.uint8)\n",
    "                self.array[start_x:end_x, start_y:end_y] = average\n",
    "                # Generate tinted image to match the average color\n",
    "                recolored_image = LayerImage.from_array(np.array(random.choice(self.content))/255).grayscale().vivid_light(average/255, 0.3).multiply(average/255, 0.7).brightness(0.4)\n",
    "                # Paste the tinted image into the block\n",
    "                self.array[start_x:end_x, start_y:end_y] = (recolored_image.get_image_as_array()*255)[:arr_slice.shape[0], :arr_slice.shape[1]]\n",
    "        # Update PIL image\n",
    "        self.ref = Image.fromarray(self.array)\n",
    "    \n",
    "  "
   ]
  },
  {
   "cell_type": "code",
   "execution_count": 11,
   "id": "da5c08cc-fe5d-4f69-b3de-1a56e650e16c",
   "metadata": {
    "tags": []
   },
   "outputs": [],
   "source": [
    "image = Mosaic('source/ref/example.jpg', 12)\n",
    "image.load_content('source/content')\n",
    "image.build()"
   ]
  },
  {
   "cell_type": "code",
   "execution_count": 12,
   "id": "37160bbb-c1e1-4809-80b8-6f2f4edf9654",
   "metadata": {},
   "outputs": [],
   "source": [
    "image.ref.show()"
   ]
  },
  {
   "cell_type": "code",
   "execution_count": 13,
   "id": "cb06af53-9193-47ec-9a4d-f85e92d6ea16",
   "metadata": {},
   "outputs": [],
   "source": [
    "image.ref.save('out/result.jpg')"
   ]
  },
  {
   "cell_type": "code",
   "execution_count": null,
   "id": "c158e15c-3e7b-4095-9599-593440f9f833",
   "metadata": {},
   "outputs": [],
   "source": []
  }
 ],
 "metadata": {
  "kernelspec": {
   "display_name": "Python 3 (ipykernel)",
   "language": "python",
   "name": "python3"
  },
  "language_info": {
   "codemirror_mode": {
    "name": "ipython",
    "version": 3
   },
   "file_extension": ".py",
   "mimetype": "text/x-python",
   "name": "python",
   "nbconvert_exporter": "python",
   "pygments_lexer": "ipython3",
   "version": "3.8.10"
  }
 },
 "nbformat": 4,
 "nbformat_minor": 5
}
